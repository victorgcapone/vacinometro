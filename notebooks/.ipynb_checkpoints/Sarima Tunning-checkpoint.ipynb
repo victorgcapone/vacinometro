{
 "cells": [
  {
   "cell_type": "code",
   "execution_count": 1,
   "metadata": {},
   "outputs": [],
   "source": [
    "import sys\n",
    "\n",
    "# Para podermos importar o utils\n",
    "sys.path.append(\"../\")"
   ]
  },
  {
   "cell_type": "code",
   "execution_count": 2,
   "metadata": {},
   "outputs": [],
   "source": [
    "%config Completer.use_jedi = False\n",
    "import pandas as pd\n",
    "import matplotlib.pyplot as plt\n",
    "import numpy as np\n",
    "from statsmodels.tsa.statespace.sarimax import SARIMAX\n",
    "from statsmodels.tsa.stattools import pacf, acf\n",
    "from sklearn.metrics import mean_absolute_error, make_scorer\n",
    "from scipy.stats import gaussian_kde\n",
    "from datetime import datetime, timedelta\n",
    "from utils import wrangle_data\n",
    "from collections import deque\n",
    "from random import choice"
   ]
  },
  {
   "cell_type": "code",
   "execution_count": 3,
   "metadata": {},
   "outputs": [
    {
     "data": {
      "text/html": [
       "<div>\n",
       "<style scoped>\n",
       "    .dataframe tbody tr th:only-of-type {\n",
       "        vertical-align: middle;\n",
       "    }\n",
       "\n",
       "    .dataframe tbody tr th {\n",
       "        vertical-align: top;\n",
       "    }\n",
       "\n",
       "    .dataframe thead th {\n",
       "        text-align: right;\n",
       "    }\n",
       "</style>\n",
       "<table border=\"1\" class=\"dataframe\">\n",
       "  <thead>\n",
       "    <tr style=\"text-align: right;\">\n",
       "      <th></th>\n",
       "      <th>Data</th>\n",
       "      <th>Vacinados</th>\n",
       "      <th>Delta</th>\n",
       "    </tr>\n",
       "  </thead>\n",
       "  <tbody>\n",
       "    <tr>\n",
       "      <th>2460</th>\n",
       "      <td>2021-03-08 18:15:00</td>\n",
       "      <td>3351546</td>\n",
       "      <td>2431.0</td>\n",
       "    </tr>\n",
       "    <tr>\n",
       "      <th>2461</th>\n",
       "      <td>2021-03-08 18:45:00</td>\n",
       "      <td>3353446</td>\n",
       "      <td>1900.0</td>\n",
       "    </tr>\n",
       "    <tr>\n",
       "      <th>2462</th>\n",
       "      <td>2021-03-08 19:15:00</td>\n",
       "      <td>3354644</td>\n",
       "      <td>1198.0</td>\n",
       "    </tr>\n",
       "    <tr>\n",
       "      <th>2463</th>\n",
       "      <td>2021-03-08 19:40:00</td>\n",
       "      <td>3355221</td>\n",
       "      <td>577.0</td>\n",
       "    </tr>\n",
       "    <tr>\n",
       "      <th>2464</th>\n",
       "      <td>2021-03-08 20:15:00</td>\n",
       "      <td>3355983</td>\n",
       "      <td>762.0</td>\n",
       "    </tr>\n",
       "  </tbody>\n",
       "</table>\n",
       "</div>"
      ],
      "text/plain": [
       "                    Data  Vacinados   Delta\n",
       "2460 2021-03-08 18:15:00    3351546  2431.0\n",
       "2461 2021-03-08 18:45:00    3353446  1900.0\n",
       "2462 2021-03-08 19:15:00    3354644  1198.0\n",
       "2463 2021-03-08 19:40:00    3355221   577.0\n",
       "2464 2021-03-08 20:15:00    3355983   762.0"
      ]
     },
     "execution_count": 3,
     "metadata": {},
     "output_type": "execute_result"
    }
   ],
   "source": [
    "# importando dados já limpos (sem duplicatas e com deltas)\n",
    "data = pd.read_csv(\"../data/vacinados_clean.csv\", parse_dates=[\"Data\"])\n",
    "data.tail()"
   ]
  },
  {
   "cell_type": "code",
   "execution_count": 4,
   "metadata": {},
   "outputs": [],
   "source": [
    "\"\"\"\n",
    "Separamos treino e teste antes de fazer o tratamento para que calculos como média e desvio padrão\n",
    "não vazem informações de um conjunto para outro\n",
    "\n",
    "TODO: esse split não considera a mudança no perio de pooling que foi feita no script\n",
    "é preciso ajustar isso\n",
    "\"\"\"\n",
    "# 75/25\n",
    "train_split = int(len(data) * .75)\n",
    "train, test = data.iloc[:train_split], data.iloc[train_split:]\n",
    "\n",
    "train = wrangle_data(train)\n",
    "test = wrangle_data(test)"
   ]
  },
  {
   "cell_type": "code",
   "execution_count": 5,
   "metadata": {},
   "outputs": [],
   "source": [
    "\"\"\"\n",
    "A única coisa q poderia vazar de um conjunto para outro é o calculo de média e desvio padrão do\n",
    "Lag-1 (Delta), como assumimos q é estacionário de variância fixa, isso n deve ser um problema\n",
    "\"\"\"\n",
    "clean_data = wrangle_data(data)\n",
    "# 75/25\n",
    "train_split = int(len(clean_data) * .75)\n",
    "train, test = clean_data.iloc[:train_split], clean_data.iloc[train_split:]"
   ]
  },
  {
   "cell_type": "markdown",
   "metadata": {},
   "source": [
    "# Modelo Sarima"
   ]
  },
  {
   "cell_type": "code",
   "execution_count": 6,
   "metadata": {},
   "outputs": [
    {
     "data": {
      "image/png": "[encoded data removed]",
      "text/plain": [
       "<Figure size 1100x440 with 2 Axes>"
      ]
     },
     "metadata": {
      "needs_background": "light"
     },
     "output_type": "display_data"
    }
   ],
   "source": [
    "first_diff = train.diff()[1:]\n",
    "num_lags = 20\n",
    "acf_vals = acf(first_diff, nlags=num_lags, fft=False)\n",
    "pacf_vals = pacf(first_diff, nlags=num_lags)\n",
    "\n",
    "fig, ax = plt.subplots(ncols=2, figsize=(10,4), dpi=110, sharey=True)\n",
    "\n",
    "ax[0].bar(range(num_lags), acf_vals[:num_lags])\n",
    "ax[0].set(title=\"ACF\",\n",
    "         xlabel=\"Lags\",\n",
    "         ylabel=\"Correlation\")\n",
    "\n",
    "ax[1].bar(range(num_lags), pacf_vals[:num_lags])\n",
    "ax[1].set(title=\"PACF\",\n",
    "         xlabel=\"Lag\")\n",
    "fig.tight_layout();"
   ]
  },
  {
   "cell_type": "code",
   "execution_count": 7,
   "metadata": {},
   "outputs": [],
   "source": [
    "\"\"\"\n",
    "Parametros q vamos utilizar em todos as otimizações feitas\n",
    "\n",
    "method: método de otimização, escolhi um método derivative-free para evitar q regiões planas\n",
    "ou com vários minimos impeçam o modelo de convergir\n",
    "\n",
    "https://stats.stackexchange.com/questions/313426/mle-convergence-errors-with-statespace-sarimax\n",
    "\n",
    "maxiter: máximo de iterações antes de parar a otimização, 150 só pra garantir (padrão é 50)\n",
    "\n",
    "disp: desliga o relatório da otimização\n",
    "\"\"\"\n",
    "opt_param = {'method': 'powell', 'maxiter':150, 'disp':0}"
   ]
  },
  {
   "cell_type": "code",
   "execution_count": 8,
   "metadata": {},
   "outputs": [],
   "source": [
    "import warnings\n",
    "from statsmodels.tools.sm_exceptions import ValueWarning\n",
    "\n",
    "warnings.simplefilter('ignore', ValueWarning)\n",
    "warnings.simplefilter('ignore', UserWarning)\n",
    "\n",
    "# Nossa grade de parametros para a busca\n",
    "search_grid = {\n",
    "    \n",
    "    'order' : [\n",
    "        (lag, 1, 1) for lag in range(6)\n",
    "    ],\n",
    "    \n",
    "    'seasonal_order' : [\n",
    "        (1, 1, 1, m) for m in range(16,32)\n",
    "    ]\n",
    "     \n",
    "}\n",
    "\"\"\"\n",
    "Escolhe um conjunto de hiperparametros aleatórios\n",
    "\"\"\"\n",
    "def get_random_param_combination(grid):\n",
    "    return {k: choice(values) for k,values in grid.items()}\n",
    "\n",
    "\n",
    "\"\"\"\n",
    "Dada uma grade de hiperparametros, testa diferentes combinações aleatórias\n",
    "e retorna o conjunto com menor perda\n",
    "\n",
    "train: conjunto de treino\n",
    "test: conjunto de teste\n",
    "grid: dicionário onde cada chave é um parametro e cada valor são listas de possíveis valores para esse parametro\n",
    "iters: numero de combinações a testar (default 10)\n",
    "loss: função de perda (default mean_absolute_error)\n",
    "\"\"\"\n",
    "def random_search_cv(train, test, grid, iters = 10, loss = mean_absolute_error):\n",
    "    best_score = None\n",
    "    best_params = None\n",
    "    for i in range(iters):\n",
    "        iter_scores = []\n",
    "        parameters = get_random_param_combination(grid)\n",
    "        model = SARIMAX(train, **parameters)\n",
    "        fit = model.fit(**opt_param)\n",
    "        predictions = fit.forecast(len(test))\n",
    "        iter_score = loss(test, predictions)\n",
    "        print(i, parameters, iter_score)\n",
    "        if best_score is None or iter_score < best_score:\n",
    "            best_score = iter_score\n",
    "            best_params = parameters\n",
    "    return best_params, best_score"
   ]
  },
  {
   "cell_type": "code",
   "execution_count": null,
   "metadata": {},
   "outputs": [
    {
     "name": "stdout",
     "output_type": "stream",
     "text": [
      "0 {'order': (4, 1, 1), 'seasonal_order': (1, 1, 1, 17)} 197329.2525992256\n",
      "1 {'order': (3, 1, 1), 'seasonal_order': (1, 1, 1, 24)} 190613.1489255732\n",
      "2 {'order': (1, 1, 1), 'seasonal_order': (1, 1, 1, 31)} 196925.57015541015\n",
      "3 {'order': (4, 1, 1), 'seasonal_order': (1, 1, 1, 24)} 191042.1394636877\n",
      "4 {'order': (0, 1, 1), 'seasonal_order': (1, 1, 1, 17)} 196613.3377245815\n",
      "5 {'order': (5, 1, 1), 'seasonal_order': (1, 1, 1, 30)} 198987.6873735705\n",
      "6 {'order': (0, 1, 1), 'seasonal_order': (1, 1, 1, 22)} 196984.55720423654\n"
     ]
    }
   ],
   "source": [
    "best_params, score = random_search_cv(train, test, search_grid, iters=20)\n",
    "#11/02/2021 -> (0,1,1), (1,1,1,23)"
   ]
  },
  {
   "cell_type": "code",
   "execution_count": null,
   "metadata": {},
   "outputs": [],
   "source": [
    "best_params, score"
   ]
  },
  {
   "cell_type": "code",
   "execution_count": null,
   "metadata": {},
   "outputs": [],
   "source": [
    "order= best_params['order']\n",
    "season_order = best_params['seasonal_order']\n",
    "\"\"\"\n",
    "Faz o rolling forecast, prevendo sempre o próximo periodo e adicionando o\n",
    "valor real ao próximo conjunto de treino dos dados\n",
    "\"\"\"\n",
    "def rolling_forecast(order, seasonal_order, train, test):\n",
    "    forecasts = []\n",
    "    \n",
    "    initial = train.index.max()\n",
    "    #Cópia local para não afetar objetos passados\n",
    "    train_copy = list(train).copy()\n",
    "    test_copy = list(test).copy()\n",
    "    for obs in range(len(test_copy)):\n",
    "        model = SARIMAX(train_copy, order=order, season_order=seasonal_order)\n",
    "        fit = model.fit(**opt_param)\n",
    "        prediction = fit.forecast(initial+obs)\n",
    "        forecasts.append(prediction[0])\n",
    "        # Adiciona o primeiro do conjunto de teste ao final do conjunto de treino\n",
    "        train_copy.append(test_copy[0])\n",
    "        test_copy = test_copy[1:]\n",
    "    return forecasts\n",
    "\n",
    "rolling = rolling_forecast(order, season_order, train, test)"
   ]
  },
  {
   "cell_type": "code",
   "execution_count": null,
   "metadata": {},
   "outputs": [],
   "source": [
    "model = SARIMAX(list(train), order=order, seasonal_order=season_order)\n",
    "model_fit = model.fit(**opt_param)\n",
    "\n",
    "full_data = wrangle_data(data)\n",
    "\n",
    "predictions = model_fit.forecast(len(test))\n",
    "fig, ax = plt.subplots(figsize=(10,5), dpi=100)\n",
    "\n",
    "ax.plot(full_data.index, full_data, linestyle='--', alpha =0.7, label=\"Real\")\n",
    "ax.plot(test.index, predictions, label=f\"SARIMA{order}{season_order}\");\n",
    "ax.plot(test.index, rolling, label=f\"SARIMA{order}{season_order} Rolling Forecast\")\n",
    "ax.set(title=f\"Comparação Real x Modelo\",\n",
    "       xlabel=\"Hora do Ano\",\n",
    "       ylabel=\"Número de Vacinados\")\n",
    "ax.grid()\n",
    "ax.legend();"
   ]
  },
  {
   "cell_type": "code",
   "execution_count": null,
   "metadata": {},
   "outputs": [],
   "source": [
    "# Computa os residuais\n",
    "residuals = pd.Series(test - np.array(rolling))\n",
    "# Gaussaibn Kernel Density Estimation para os nossos residuais\n",
    "kde = gaussian_kde(residuals)\n",
    "\n",
    "fig, ax = plt.subplots(ncols=2, figsize=(10,5), dpi=100)\n",
    "\n",
    "fig.suptitle(\"Residuais (Rolling Forecast)\")\n",
    "\n",
    "ax[0].set(title=\"Residuais x Hora do Ano\",\n",
    "         xlabel=\"Hora do Ano\",\n",
    "         ylabel=\"Residuais\")\n",
    "\n",
    "ax[0].plot(residuals)\n",
    "\n",
    "residuals.plot(kind='kde', ax=ax[1])\n",
    "\n",
    "ax[1].set(title=\"Distribuição\",\n",
    "         xlabel=\"Residuais\",\n",
    "         ylabel=\"Prob.\")\n",
    "fig.tight_layout()\n"
   ]
  },
  {
   "cell_type": "code",
   "execution_count": null,
   "metadata": {},
   "outputs": [],
   "source": [
    "residuals.describe()"
   ]
  },
  {
   "cell_type": "code",
   "execution_count": null,
   "metadata": {},
   "outputs": [],
   "source": [
    "# Computa os residuais\n",
    "residuals = pd.Series(test - np.array(predictions))\n",
    "# Gaussaibn Kernel Density Estimation para os nossos residuais\n",
    "kde = gaussian_kde(residuals)\n",
    "\n",
    "fig, ax = plt.subplots(ncols=2, figsize=(10,5), dpi=100)\n",
    "\n",
    "fig.suptitle(\"Residuais\")\n",
    "\n",
    "ax[0].set(title=\"Residuais x Hora do Ano\",\n",
    "         xlabel=\"Hora do Ano\",\n",
    "         ylabel=\"Residuais\")\n",
    "\n",
    "ax[0].plot(residuals)\n",
    "\n",
    "residuals.plot(kind='kde', ax=ax[1])\n",
    "\n",
    "ax[1].set(title=\"Distribuição\",\n",
    "         xlabel=\"Residuais\",\n",
    "         ylabel=\"Prob.\")\n",
    "fig.tight_layout()"
   ]
  },
  {
   "cell_type": "code",
   "execution_count": null,
   "metadata": {},
   "outputs": [],
   "source": [
    "residuals.describe()"
   ]
  },
  {
   "cell_type": "code",
   "execution_count": null,
   "metadata": {},
   "outputs": [],
   "source": [
    "errors = []\n",
    "\n",
    "for i in range(1, len(test)-1):\n",
    "    errors.append(mean_absolute_error(test[:i], predictions[:i]))\n",
    "\n",
    "fig, ax = plt.subplots(figsize=(10,5), dpi=100)\n",
    "\n",
    "ax.set(title=\"Perfil de Erro do Forecast sem Rolamento\",\n",
    "         xlabel=\"Horas a Partir do Último dado real\",\n",
    "         ylabel=\"Erro Absoluto Médio\")\n",
    "\n",
    "ax.plot(errors)\n",
    "\n",
    "fig.tight_layout()"
   ]
  },
  {
   "cell_type": "code",
   "execution_count": null,
   "metadata": {
    "scrolled": false
   },
   "outputs": [],
   "source": [
    "\"\"\"\n",
    "Treinando um modelo com o melhor parametro de sazonalidade encontrado para tentar \n",
    "prever número de vacinados nas próximas horas\n",
    "\"\"\"\n",
    "model =SARIMAX(list(full_data), order=order, seasonal_order=season_order)\n",
    "model_fit = model.fit(**opt_param)\n",
    "hours_to_predict = 12\n",
    "predictions = model_fit.forecast(hours_to_predict)\n",
    "index = range(full_data.index.max()+1, full_data.index.max()+hours_to_predict+1)\n",
    "fig, ax = plt.subplots(figsize=(10,5), dpi=100)\n",
    "\n",
    "ax.plot(full_data.index, full_data, label=\"Real\")\n",
    "ax.plot(index, predictions, label=f\"SARIMA{order}{season_order}\");\n",
    "ax.set(title=f\"Previsão das próximas {hours_to_predict} horas\",\n",
    "       xlabel=\"Hora do Ano\",\n",
    "       ylabel=\"Número de Vacinados\")\n",
    "ax.grid()\n",
    "ax.legend();"
   ]
  },
  {
   "cell_type": "code",
   "execution_count": null,
   "metadata": {},
   "outputs": [],
   "source": [
    "hora_zero = datetime(2021, 1, 1)\n",
    "last_real_data = int(full_data.index.max())\n",
    "\n",
    "print(f\"Previsão de 12h a partir de {hora_zero + timedelta(hours=last_real_data)}\")\n",
    "for hora, vac in zip(index, predictions):\n",
    "    data_vac = hora_zero + timedelta(hours=hora)\n",
    "    print(f\"{data_vac}: {vac:.0f}\")"
   ]
  }
 ],
 "metadata": {
  "kernelspec": {
   "display_name": "Vacinometro",
   "language": "python",
   "name": "vacinometro"
  },
  "language_info": {
   "codemirror_mode": {
    "name": "ipython",
    "version": 3
   },
   "file_extension": ".py",
   "mimetype": "text/x-python",
   "name": "python",
   "nbconvert_exporter": "python",
   "pygments_lexer": "ipython3",
   "version": "3.8.5"
  }
 },
 "nbformat": 4,
 "nbformat_minor": 4
}
