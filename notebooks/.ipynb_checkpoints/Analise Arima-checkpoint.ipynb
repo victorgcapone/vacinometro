{
 "cells": [
  {
   "cell_type": "code",
   "execution_count": 180,
   "metadata": {},
   "outputs": [],
   "source": [
    "%config Completer.use_jedi = False\n",
    "import pandas as pd\n",
    "import matplotlib.pyplot as plt\n",
    "import numpy as np\n",
    "from pandas.plotting import autocorrelation_plot\n",
    "from statsmodels.tsa.statespace.sarimax import SARIMAX\n",
    "from statsmodels.tsa.stattools import pacf, acf\n",
    "from sklearn.metrics import mean_absolute_error\n",
    "\n",
    "# 44.04 Milhões de habitantes em SP\n",
    "SP_POP = 44.04e6"
   ]
  },
  {
   "cell_type": "code",
   "execution_count": 151,
   "metadata": {},
   "outputs": [
    {
     "data": {
      "text/html": [
       "<div>\n",
       "<style scoped>\n",
       "    .dataframe tbody tr th:only-of-type {\n",
       "        vertical-align: middle;\n",
       "    }\n",
       "\n",
       "    .dataframe tbody tr th {\n",
       "        vertical-align: top;\n",
       "    }\n",
       "\n",
       "    .dataframe thead th {\n",
       "        text-align: right;\n",
       "    }\n",
       "</style>\n",
       "<table border=\"1\" class=\"dataframe\">\n",
       "  <thead>\n",
       "    <tr style=\"text-align: right;\">\n",
       "      <th></th>\n",
       "      <th>Data</th>\n",
       "      <th>Vacinados</th>\n",
       "      <th>Delta</th>\n",
       "    </tr>\n",
       "  </thead>\n",
       "  <tbody>\n",
       "    <tr>\n",
       "      <th>0</th>\n",
       "      <td>2021-01-19 11:16:00</td>\n",
       "      <td>3908</td>\n",
       "      <td>NaN</td>\n",
       "    </tr>\n",
       "    <tr>\n",
       "      <th>1</th>\n",
       "      <td>2021-01-20 14:14:00</td>\n",
       "      <td>17318</td>\n",
       "      <td>13410.0</td>\n",
       "    </tr>\n",
       "    <tr>\n",
       "      <th>2</th>\n",
       "      <td>2021-01-20 15:11:00</td>\n",
       "      <td>18409</td>\n",
       "      <td>1091.0</td>\n",
       "    </tr>\n",
       "    <tr>\n",
       "      <th>3</th>\n",
       "      <td>2021-01-20 15:19:00</td>\n",
       "      <td>18729</td>\n",
       "      <td>320.0</td>\n",
       "    </tr>\n",
       "    <tr>\n",
       "      <th>4</th>\n",
       "      <td>2021-01-20 15:24:00</td>\n",
       "      <td>18834</td>\n",
       "      <td>105.0</td>\n",
       "    </tr>\n",
       "  </tbody>\n",
       "</table>\n",
       "</div>"
      ],
      "text/plain": [
       "                 Data  Vacinados    Delta\n",
       "0 2021-01-19 11:16:00       3908      NaN\n",
       "1 2021-01-20 14:14:00      17318  13410.0\n",
       "2 2021-01-20 15:11:00      18409   1091.0\n",
       "3 2021-01-20 15:19:00      18729    320.0\n",
       "4 2021-01-20 15:24:00      18834    105.0"
      ]
     },
     "execution_count": 151,
     "metadata": {},
     "output_type": "execute_result"
    }
   ],
   "source": [
    "data = pd.read_csv(\"../data/vacinados_clean.csv\", parse_dates=[\"Data\"])\n",
    "data.head()"
   ]
  },
  {
   "cell_type": "code",
   "execution_count": 311,
   "metadata": {},
   "outputs": [],
   "source": []
  },
  {
   "cell_type": "code",
   "execution_count": 335,
   "metadata": {},
   "outputs": [],
   "source": [
    "train_split = int(data.shape[0] * 0.75)\n",
    "# conjuntos de treino e teste\n",
    "train, test = data.iloc[:train_split], data.iloc[train_split:]\n",
    "\n",
    "def wrangle_data(data, stdev_outlier=2):\n",
    "    # Eliminando nulos e valores onde a diferença do anterior é menor que 0\n",
    "    # por que as vezes o site do vacinometro reporta valores errados\n",
    "    data = data.dropna()\n",
    "    data = data.drop(data.query(\"Delta <= 0\").index)\n",
    "    # Vamos remover todas as entradas cuja a diferença\n",
    "    # da anterior (coluna delta) estiver acima de um certo número de\n",
    "    # desvios padrões da média (pelo mesmo motivo)\n",
    "    std = data.Delta.std()\n",
    "    mean = data.Delta.mean()\n",
    "    data = data.drop(data.query(\"Delta > @mean+@stdev_outlier*@std\").index)\n",
    "    # Para cada entrada, calcula em qual hora do ano ela foi computada (24*(dia_do_ano-1) + hora_do_dia)\n",
    "    # Dia do ano - 1 por que o primeiro dia começa na hora 0\n",
    "    data[\"HourOfYear\"] = 24*(data.Data.dt.dayofyear-1) + data.Data.dt.hour\n",
    "    # Agrupa registros q aconteceram dentro da mesma hora e soma todas as mudanças\n",
    "    # Isso vai 'estacionarizar' nossos dados\n",
    "    #vacinados_hora = data.groupby(\"HourOfYear\").sum()[\"Delta\"]\n",
    "    vacinados_hora = data.groupby(\"HourOfYear\").max()[\"Vacinados\"]\n",
    "    \n",
    "    return vacinados_hora\n",
    "\n",
    "train = wrangle_data(train)\n",
    "test = wrangle_data(test)"
   ]
  },
  {
   "cell_type": "markdown",
   "metadata": {},
   "source": [
    "# Modelo SarimaX"
   ]
  },
  {
   "cell_type": "code",
   "execution_count": 353,
   "metadata": {},
   "outputs": [
    {
     "data": {
      "image/png": "[encoded data removed]",
      "text/plain": [
       "<Figure size 1100x440 with 2 Axes>"
      ]
     },
     "metadata": {
      "needs_background": "light"
     },
     "output_type": "display_data"
    }
   ],
   "source": [
    "first_diff = vacinados_hora.diff()[1:]\n",
    "num_lags = 20\n",
    "acf_vals = acf(first_diff, nlags=num_lags, fft=False)\n",
    "pacf_vals = pacf(first_diff, nlags=num_lags)\n",
    "\n",
    "fig, ax = plt.subplots(ncols=2, figsize=(10,4), dpi=110, sharey=True)\n",
    "\n",
    "ax[0].bar(range(num_lags), acf_vals[:num_lags])\n",
    "ax[0].set(title=\"ACF\",\n",
    "         xlabel=\"Lags\",\n",
    "         ylabel=\"Correlation\")\n",
    "\n",
    "ax[1].bar(range(num_lags), pacf_vals[:num_lags])\n",
    "ax[1].set(title=\"PACF\",\n",
    "         xlabel=\"Lag\")\n",
    "fig.tight_layout();"
   ]
  },
  {
   "cell_type": "code",
   "execution_count": 372,
   "metadata": {},
   "outputs": [],
   "source": [
    "opt_param = {'method': 'powell', 'maxiter':150}\n",
    "\n",
    "def train_score_sarima(order, seasonal_order, train, test):\n",
    "    model = SARIMAX(train, order=order, seasonal_order=seasonal_order)\n",
    "    fit  = model.fit(**opt_param)\n",
    "    predictions = fit.forecast(len(test))\n",
    "    return mean_absolute_error(test, predictions)\n",
    "\n",
    "def search_seasonal_period(order, P, Q, D, train, test, periods):\n",
    "    best_score = None\n",
    "    best_m = None\n",
    "    for m in periods:\n",
    "        score = train_score_sarima(order, (P,Q,D,m), train, test)\n",
    "        if best_score is None or score < best_score:\n",
    "            best_m, best_score = m, score\n",
    "    return best_m, best_score"
   ]
  },
  {
   "cell_type": "code",
   "execution_count": 373,
   "metadata": {
    "scrolled": false
   },
   "outputs": [
    {
     "name": "stdout",
     "output_type": "stream",
     "text": [
      "Optimization terminated successfully.\n",
      "         Current function value: 7.561362\n",
      "         Iterations: 3\n",
      "         Function evaluations: 345\n",
      "Optimization terminated successfully.\n",
      "         Current function value: 7.532544\n",
      "         Iterations: 7\n",
      "         Function evaluations: 834\n",
      "Optimization terminated successfully.\n",
      "         Current function value: 7.472946\n",
      "         Iterations: 3\n",
      "         Function evaluations: 354\n"
     ]
    },
    {
     "name": "stderr",
     "output_type": "stream",
     "text": [
      "/home/phyrlae/miniconda3/envs/vacinometro/lib/python3.7/site-packages/statsmodels/tsa/statespace/sarimax.py:1009: UserWarning: Non-invertible starting seasonal moving average Using zeros as starting parameters.\n",
      "  warn('Non-invertible starting seasonal moving average'\n"
     ]
    },
    {
     "name": "stdout",
     "output_type": "stream",
     "text": [
      "Optimization terminated successfully.\n",
      "         Current function value: 7.267378\n",
      "         Iterations: 3\n",
      "         Function evaluations: 347\n",
      "Optimization terminated successfully.\n",
      "         Current function value: 7.098040\n",
      "         Iterations: 6\n",
      "         Function evaluations: 700\n"
     ]
    },
    {
     "name": "stderr",
     "output_type": "stream",
     "text": [
      "/home/phyrlae/miniconda3/envs/vacinometro/lib/python3.7/site-packages/statsmodels/tsa/statespace/sarimax.py:1009: UserWarning: Non-invertible starting seasonal moving average Using zeros as starting parameters.\n",
      "  warn('Non-invertible starting seasonal moving average'\n"
     ]
    },
    {
     "name": "stdout",
     "output_type": "stream",
     "text": [
      "Optimization terminated successfully.\n",
      "         Current function value: 7.097173\n",
      "         Iterations: 8\n",
      "         Function evaluations: 929\n"
     ]
    },
    {
     "name": "stderr",
     "output_type": "stream",
     "text": [
      "/home/phyrlae/miniconda3/envs/vacinometro/lib/python3.7/site-packages/statsmodels/tsa/statespace/sarimax.py:997: UserWarning: Non-stationary starting seasonal autoregressive Using zeros as starting parameters.\n",
      "  warn('Non-stationary starting seasonal autoregressive'\n",
      "/home/phyrlae/miniconda3/envs/vacinometro/lib/python3.7/site-packages/statsmodels/tsa/statespace/sarimax.py:1009: UserWarning: Non-invertible starting seasonal moving average Using zeros as starting parameters.\n",
      "  warn('Non-invertible starting seasonal moving average'\n"
     ]
    },
    {
     "name": "stdout",
     "output_type": "stream",
     "text": [
      "Optimization terminated successfully.\n",
      "         Current function value: 7.021887\n",
      "         Iterations: 7\n",
      "         Function evaluations: 821\n"
     ]
    },
    {
     "name": "stderr",
     "output_type": "stream",
     "text": [
      "/home/phyrlae/miniconda3/envs/vacinometro/lib/python3.7/site-packages/statsmodels/tsa/statespace/sarimax.py:997: UserWarning: Non-stationary starting seasonal autoregressive Using zeros as starting parameters.\n",
      "  warn('Non-stationary starting seasonal autoregressive'\n",
      "/home/phyrlae/miniconda3/envs/vacinometro/lib/python3.7/site-packages/statsmodels/tsa/statespace/sarimax.py:1009: UserWarning: Non-invertible starting seasonal moving average Using zeros as starting parameters.\n",
      "  warn('Non-invertible starting seasonal moving average'\n"
     ]
    },
    {
     "name": "stdout",
     "output_type": "stream",
     "text": [
      "Optimization terminated successfully.\n",
      "         Current function value: 6.953800\n",
      "         Iterations: 9\n",
      "         Function evaluations: 1044\n"
     ]
    },
    {
     "name": "stderr",
     "output_type": "stream",
     "text": [
      "/home/phyrlae/miniconda3/envs/vacinometro/lib/python3.7/site-packages/statsmodels/tsa/statespace/sarimax.py:997: UserWarning: Non-stationary starting seasonal autoregressive Using zeros as starting parameters.\n",
      "  warn('Non-stationary starting seasonal autoregressive'\n",
      "/home/phyrlae/miniconda3/envs/vacinometro/lib/python3.7/site-packages/statsmodels/tsa/statespace/sarimax.py:1009: UserWarning: Non-invertible starting seasonal moving average Using zeros as starting parameters.\n",
      "  warn('Non-invertible starting seasonal moving average'\n"
     ]
    },
    {
     "name": "stdout",
     "output_type": "stream",
     "text": [
      "Optimization terminated successfully.\n",
      "         Current function value: 6.891739\n",
      "         Iterations: 7\n",
      "         Function evaluations: 823\n"
     ]
    },
    {
     "name": "stderr",
     "output_type": "stream",
     "text": [
      "/home/phyrlae/miniconda3/envs/vacinometro/lib/python3.7/site-packages/statsmodels/tsa/statespace/sarimax.py:1009: UserWarning: Non-invertible starting seasonal moving average Using zeros as starting parameters.\n",
      "  warn('Non-invertible starting seasonal moving average'\n"
     ]
    },
    {
     "name": "stdout",
     "output_type": "stream",
     "text": [
      "Optimization terminated successfully.\n",
      "         Current function value: 6.747862\n",
      "         Iterations: 8\n",
      "         Function evaluations: 952\n"
     ]
    },
    {
     "name": "stderr",
     "output_type": "stream",
     "text": [
      "/home/phyrlae/miniconda3/envs/vacinometro/lib/python3.7/site-packages/statsmodels/tsa/statespace/sarimax.py:1009: UserWarning: Non-invertible starting seasonal moving average Using zeros as starting parameters.\n",
      "  warn('Non-invertible starting seasonal moving average'\n"
     ]
    },
    {
     "name": "stdout",
     "output_type": "stream",
     "text": [
      "Optimization terminated successfully.\n",
      "         Current function value: 6.713621\n",
      "         Iterations: 6\n",
      "         Function evaluations: 715\n",
      "Optimization terminated successfully.\n",
      "         Current function value: 6.605843\n",
      "         Iterations: 8\n",
      "         Function evaluations: 942\n"
     ]
    },
    {
     "name": "stderr",
     "output_type": "stream",
     "text": [
      "/home/phyrlae/miniconda3/envs/vacinometro/lib/python3.7/site-packages/statsmodels/tsa/statespace/sarimax.py:868: UserWarning: Too few observations to estimate starting parameters for seasonal ARMA. All parameters except for variances will be set to zeros.\n",
      "  ' zeros.' % warning_description)\n"
     ]
    },
    {
     "name": "stdout",
     "output_type": "stream",
     "text": [
      "Optimization terminated successfully.\n",
      "         Current function value: 6.620576\n",
      "         Iterations: 7\n",
      "         Function evaluations: 829\n"
     ]
    },
    {
     "name": "stderr",
     "output_type": "stream",
     "text": [
      "/home/phyrlae/miniconda3/envs/vacinometro/lib/python3.7/site-packages/statsmodels/tsa/statespace/sarimax.py:868: UserWarning: Too few observations to estimate starting parameters for seasonal ARMA. All parameters except for variances will be set to zeros.\n",
      "  ' zeros.' % warning_description)\n"
     ]
    },
    {
     "name": "stdout",
     "output_type": "stream",
     "text": [
      "Optimization terminated successfully.\n",
      "         Current function value: 6.512736\n",
      "         Iterations: 6\n",
      "         Function evaluations: 707\n"
     ]
    },
    {
     "data": {
      "text/plain": [
       "(23, 20240.977899680296)"
      ]
     },
     "execution_count": 373,
     "metadata": {},
     "output_type": "execute_result"
    }
   ],
   "source": [
    "best_m, best_score = search_seasonal_period(order, 1,1,1, list(train), list(test), range(16,30))\n",
    "best_m, best_score"
   ]
  },
  {
   "cell_type": "code",
   "execution_count": 374,
   "metadata": {},
   "outputs": [
    {
     "name": "stderr",
     "output_type": "stream",
     "text": [
      "/home/phyrlae/miniconda3/envs/vacinometro/lib/python3.7/site-packages/statsmodels/tsa/statespace/sarimax.py:997: UserWarning: Non-stationary starting seasonal autoregressive Using zeros as starting parameters.\n",
      "  warn('Non-stationary starting seasonal autoregressive'\n",
      "/home/phyrlae/miniconda3/envs/vacinometro/lib/python3.7/site-packages/statsmodels/tsa/statespace/sarimax.py:1009: UserWarning: Non-invertible starting seasonal moving average Using zeros as starting parameters.\n",
      "  warn('Non-invertible starting seasonal moving average'\n"
     ]
    },
    {
     "name": "stdout",
     "output_type": "stream",
     "text": [
      "Optimization terminated successfully.\n",
      "         Current function value: 6.953800\n",
      "         Iterations: 9\n",
      "         Function evaluations: 1044\n"
     ]
    }
   ],
   "source": [
    "# Analise usadno modelo Sarimax\n",
    "# 6 lags pelo gráfico de ACF, 1 diferença nos deixou estacionários\n",
    "order=(6,1,1)\n",
    "season_order=(1, 1, 1, best_m)\n",
    "model =SARIMAX(list(train), order=order, seasonal_order=season_order)\n",
    "model_fit = model.fit(**opt_param)"
   ]
  },
  {
   "cell_type": "code",
   "execution_count": 364,
   "metadata": {},
   "outputs": [
    {
     "data": {
      "text/html": [
       "<table class=\"simpletable\">\n",
       "<caption>SARIMAX Results</caption>\n",
       "<tr>\n",
       "  <th>Dep. Variable:</th>                  <td>y</td>               <th>  No. Observations:  </th>    <td>110</td>  \n",
       "</tr>\n",
       "<tr>\n",
       "  <th>Model:</th>           <td>SARIMAX(6, 1, 1)x(1, 1, 1, 23)</td> <th>  Log Likelihood     </th> <td>-764.918</td>\n",
       "</tr>\n",
       "<tr>\n",
       "  <th>Date:</th>                   <td>Wed, 27 Jan 2021</td>        <th>  AIC                </th> <td>1549.836</td>\n",
       "</tr>\n",
       "<tr>\n",
       "  <th>Time:</th>                       <td>20:55:06</td>            <th>  BIC                </th> <td>1574.379</td>\n",
       "</tr>\n",
       "<tr>\n",
       "  <th>Sample:</th>                         <td>0</td>               <th>  HQIC               </th> <td>1559.714</td>\n",
       "</tr>\n",
       "<tr>\n",
       "  <th></th>                             <td> - 110</td>             <th>                     </th>     <td> </td>   \n",
       "</tr>\n",
       "<tr>\n",
       "  <th>Covariance Type:</th>               <td>opg</td>              <th>                     </th>     <td> </td>   \n",
       "</tr>\n",
       "</table>\n",
       "<table class=\"simpletable\">\n",
       "<tr>\n",
       "      <td></td>        <th>coef</th>     <th>std err</th>      <th>z</th>      <th>P>|z|</th>  <th>[0.025</th>    <th>0.975]</th>  \n",
       "</tr>\n",
       "<tr>\n",
       "  <th>ar.L1</th>    <td>   -0.1742</td> <td>    1.448</td> <td>   -0.120</td> <td> 0.904</td> <td>   -3.012</td> <td>    2.663</td>\n",
       "</tr>\n",
       "<tr>\n",
       "  <th>ar.L2</th>    <td>    0.4340</td> <td>    0.380</td> <td>    1.143</td> <td> 0.253</td> <td>   -0.310</td> <td>    1.178</td>\n",
       "</tr>\n",
       "<tr>\n",
       "  <th>ar.L3</th>    <td>    0.1079</td> <td>    0.476</td> <td>    0.226</td> <td> 0.821</td> <td>   -0.826</td> <td>    1.042</td>\n",
       "</tr>\n",
       "<tr>\n",
       "  <th>ar.L4</th>    <td>    0.1890</td> <td>    0.113</td> <td>    1.668</td> <td> 0.095</td> <td>   -0.033</td> <td>    0.411</td>\n",
       "</tr>\n",
       "<tr>\n",
       "  <th>ar.L5</th>    <td>    0.0447</td> <td>    0.348</td> <td>    0.128</td> <td> 0.898</td> <td>   -0.638</td> <td>    0.727</td>\n",
       "</tr>\n",
       "<tr>\n",
       "  <th>ar.L6</th>    <td>    0.0223</td> <td>    0.117</td> <td>    0.191</td> <td> 0.848</td> <td>   -0.207</td> <td>    0.251</td>\n",
       "</tr>\n",
       "<tr>\n",
       "  <th>ma.L1</th>    <td>    0.4439</td> <td>    1.437</td> <td>    0.309</td> <td> 0.757</td> <td>   -2.373</td> <td>    3.261</td>\n",
       "</tr>\n",
       "<tr>\n",
       "  <th>ar.S.L23</th> <td>    0.1287</td> <td>    0.122</td> <td>    1.055</td> <td> 0.291</td> <td>   -0.110</td> <td>    0.368</td>\n",
       "</tr>\n",
       "<tr>\n",
       "  <th>ma.S.L23</th> <td>   -0.8430</td> <td>    0.196</td> <td>   -4.291</td> <td> 0.000</td> <td>   -1.228</td> <td>   -0.458</td>\n",
       "</tr>\n",
       "<tr>\n",
       "  <th>sigma2</th>   <td> 2.618e+06</td> <td> 1.74e-06</td> <td> 1.51e+12</td> <td> 0.000</td> <td> 2.62e+06</td> <td> 2.62e+06</td>\n",
       "</tr>\n",
       "</table>\n",
       "<table class=\"simpletable\">\n",
       "<tr>\n",
       "  <th>Ljung-Box (L1) (Q):</th>     <td>0.29</td> <th>  Jarque-Bera (JB):  </th> <td>6.77</td> \n",
       "</tr>\n",
       "<tr>\n",
       "  <th>Prob(Q):</th>                <td>0.59</td> <th>  Prob(JB):          </th> <td>0.03</td> \n",
       "</tr>\n",
       "<tr>\n",
       "  <th>Heteroskedasticity (H):</th> <td>0.13</td> <th>  Skew:              </th> <td>-0.12</td>\n",
       "</tr>\n",
       "<tr>\n",
       "  <th>Prob(H) (two-sided):</th>    <td>0.00</td> <th>  Kurtosis:          </th> <td>4.35</td> \n",
       "</tr>\n",
       "</table><br/><br/>Warnings:<br/>[1] Covariance matrix calculated using the outer product of gradients (complex-step).<br/>[2] Covariance matrix is singular or near-singular, with condition number 8.86e+27. Standard errors may be unstable."
      ],
      "text/plain": [
       "<class 'statsmodels.iolib.summary.Summary'>\n",
       "\"\"\"\n",
       "                                     SARIMAX Results                                      \n",
       "==========================================================================================\n",
       "Dep. Variable:                                  y   No. Observations:                  110\n",
       "Model:             SARIMAX(6, 1, 1)x(1, 1, 1, 23)   Log Likelihood                -764.918\n",
       "Date:                            Wed, 27 Jan 2021   AIC                           1549.836\n",
       "Time:                                    20:55:06   BIC                           1574.379\n",
       "Sample:                                         0   HQIC                          1559.714\n",
       "                                            - 110                                         \n",
       "Covariance Type:                              opg                                         \n",
       "==============================================================================\n",
       "                 coef    std err          z      P>|z|      [0.025      0.975]\n",
       "------------------------------------------------------------------------------\n",
       "ar.L1         -0.1742      1.448     -0.120      0.904      -3.012       2.663\n",
       "ar.L2          0.4340      0.380      1.143      0.253      -0.310       1.178\n",
       "ar.L3          0.1079      0.476      0.226      0.821      -0.826       1.042\n",
       "ar.L4          0.1890      0.113      1.668      0.095      -0.033       0.411\n",
       "ar.L5          0.0447      0.348      0.128      0.898      -0.638       0.727\n",
       "ar.L6          0.0223      0.117      0.191      0.848      -0.207       0.251\n",
       "ma.L1          0.4439      1.437      0.309      0.757      -2.373       3.261\n",
       "ar.S.L23       0.1287      0.122      1.055      0.291      -0.110       0.368\n",
       "ma.S.L23      -0.8430      0.196     -4.291      0.000      -1.228      -0.458\n",
       "sigma2      2.618e+06   1.74e-06   1.51e+12      0.000    2.62e+06    2.62e+06\n",
       "===================================================================================\n",
       "Ljung-Box (L1) (Q):                   0.29   Jarque-Bera (JB):                 6.77\n",
       "Prob(Q):                              0.59   Prob(JB):                         0.03\n",
       "Heteroskedasticity (H):               0.13   Skew:                            -0.12\n",
       "Prob(H) (two-sided):                  0.00   Kurtosis:                         4.35\n",
       "===================================================================================\n",
       "\n",
       "Warnings:\n",
       "[1] Covariance matrix calculated using the outer product of gradients (complex-step).\n",
       "[2] Covariance matrix is singular or near-singular, with condition number 8.86e+27. Standard errors may be unstable.\n",
       "\"\"\""
      ]
     },
     "execution_count": 364,
     "metadata": {},
     "output_type": "execute_result"
    }
   ],
   "source": [
    "model_fit.summary()"
   ]
  },
  {
   "cell_type": "code",
   "execution_count": 365,
   "metadata": {},
   "outputs": [
    {
     "data": {
      "image/png": "[encoded data removed]",
      "text/plain": [
       "<Figure size 1000x500 with 1 Axes>"
      ]
     },
     "metadata": {
      "needs_background": "light"
     },
     "output_type": "display_data"
    }
   ],
   "source": [
    "predictions = model_fit.forecast(len(test))\n",
    "fig, ax = plt.subplots(figsize=(10,5), dpi=100)\n",
    "\n",
    "ax.plot(vacinados_hora.index, vacinados_hora)\n",
    "ax.plot(test.index, predictions);"
   ]
  },
  {
   "cell_type": "code",
   "execution_count": 376,
   "metadata": {},
   "outputs": [
    {
     "name": "stdout",
     "output_type": "stream",
     "text": [
      "Optimization terminated successfully.\n",
      "         Current function value: 7.509911\n",
      "         Iterations: 5\n",
      "         Function evaluations: 590\n"
     ]
    }
   ],
   "source": [
    "# Analise usadno modelo Sarimax\n",
    "# 6 lags pelo gráfico de ACF, 1 diferença nos deixou estacionários\n",
    "full_data = wrangle_data(data)\n",
    "order=(6,1,1)\n",
    "season_order=(1, 1, 1, best_m)\n",
    "model =SARIMAX(list(full_data), order=order, seasonal_order=season_order)\n",
    "model_fit = model.fit(**opt_param)"
   ]
  },
  {
   "cell_type": "code",
   "execution_count": 379,
   "metadata": {},
   "outputs": [
    {
     "data": {
      "image/png": "[encoded data removed]",
      "text/plain": [
       "<Figure size 1000x500 with 1 Axes>"
      ]
     },
     "metadata": {
      "needs_background": "light"
     },
     "output_type": "display_data"
    }
   ],
   "source": [
    "predictions = model_fit.forecast(12)\n",
    "index = range(full_data.index.max(), full_data.index.max()+12)\n",
    "fig, ax = plt.subplots(figsize=(10,5), dpi=100)\n",
    "\n",
    "ax.plot(vacinados_hora.index, vacinados_hora)\n",
    "ax.plot(index, predictions);"
   ]
  }
 ],
 "metadata": {
  "kernelspec": {
   "display_name": "Python (vacinometro)",
   "language": "python",
   "name": "vacinometro"
  },
  "language_info": {
   "codemirror_mode": {
    "name": "ipython",
    "version": 3
   },
   "file_extension": ".py",
   "mimetype": "text/x-python",
   "name": "python",
   "nbconvert_exporter": "python",
   "pygments_lexer": "ipython3",
   "version": "3.7.9"
  }
 },
 "nbformat": 4,
 "nbformat_minor": 4
}
