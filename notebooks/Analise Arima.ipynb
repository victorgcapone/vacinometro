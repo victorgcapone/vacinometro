{
 "cells": [
  {
   "cell_type": "code",
   "execution_count": 1,
   "metadata": {},
   "outputs": [],
   "source": [
    "%config Completer.use_jedi = False\n",
    "import pandas as pd\n",
    "import matplotlib.pyplot as plt\n",
    "import numpy as np\n",
    "from pandas.plotting import autocorrelation_plot\n",
    "from statsmodels.tsa.statespace.sarimax import SARIMAX\n",
    "from statsmodels.tsa.stattools import pacf, acf\n",
    "from sklearn.metrics import mean_absolute_error"
   ]
  },
  {
   "cell_type": "code",
   "execution_count": 2,
   "metadata": {},
   "outputs": [
    {
     "data": {
      "text/html": [
       "<div>\n",
       "<style scoped>\n",
       "    .dataframe tbody tr th:only-of-type {\n",
       "        vertical-align: middle;\n",
       "    }\n",
       "\n",
       "    .dataframe tbody tr th {\n",
       "        vertical-align: top;\n",
       "    }\n",
       "\n",
       "    .dataframe thead th {\n",
       "        text-align: right;\n",
       "    }\n",
       "</style>\n",
       "<table border=\"1\" class=\"dataframe\">\n",
       "  <thead>\n",
       "    <tr style=\"text-align: right;\">\n",
       "      <th></th>\n",
       "      <th>Data</th>\n",
       "      <th>Vacinados</th>\n",
       "      <th>Delta</th>\n",
       "    </tr>\n",
       "  </thead>\n",
       "  <tbody>\n",
       "    <tr>\n",
       "      <th>0</th>\n",
       "      <td>2021-01-19 11:16:00</td>\n",
       "      <td>3908</td>\n",
       "      <td>NaN</td>\n",
       "    </tr>\n",
       "    <tr>\n",
       "      <th>1</th>\n",
       "      <td>2021-01-20 14:14:00</td>\n",
       "      <td>17318</td>\n",
       "      <td>13410.0</td>\n",
       "    </tr>\n",
       "    <tr>\n",
       "      <th>2</th>\n",
       "      <td>2021-01-20 15:11:00</td>\n",
       "      <td>18409</td>\n",
       "      <td>1091.0</td>\n",
       "    </tr>\n",
       "    <tr>\n",
       "      <th>3</th>\n",
       "      <td>2021-01-20 15:19:00</td>\n",
       "      <td>18729</td>\n",
       "      <td>320.0</td>\n",
       "    </tr>\n",
       "    <tr>\n",
       "      <th>4</th>\n",
       "      <td>2021-01-20 15:24:00</td>\n",
       "      <td>18834</td>\n",
       "      <td>105.0</td>\n",
       "    </tr>\n",
       "  </tbody>\n",
       "</table>\n",
       "</div>"
      ],
      "text/plain": [
       "                 Data  Vacinados    Delta\n",
       "0 2021-01-19 11:16:00       3908      NaN\n",
       "1 2021-01-20 14:14:00      17318  13410.0\n",
       "2 2021-01-20 15:11:00      18409   1091.0\n",
       "3 2021-01-20 15:19:00      18729    320.0\n",
       "4 2021-01-20 15:24:00      18834    105.0"
      ]
     },
     "execution_count": 2,
     "metadata": {},
     "output_type": "execute_result"
    }
   ],
   "source": [
    "# importando dados já limpos (sem duplicatas e com deltas)\n",
    "data = pd.read_csv(\"../data/vacinados_clean.csv\", parse_dates=[\"Data\"])\n",
    "data.head()"
   ]
  },
  {
   "cell_type": "code",
   "execution_count": 3,
   "metadata": {},
   "outputs": [],
   "source": [
    "\"\"\"\n",
    "Separamos treino e teste antes de fazer o tratamento para que calculos como média e desvio padrão\n",
    "não vazem informações de um conjunto para outro\n",
    "\"\"\"\n",
    "# 75/25\n",
    "train_split = int(data.shape[0] * 0.75)\n",
    "train, test = data.iloc[:train_split], data.iloc[train_split:]\n",
    "\n",
    "\"\"\"\n",
    "data: dataframe com colunas Data, Vacinados e Delta\n",
    "stdev_outlier: valor de desvios padrões a partir do qual um dado é outlier (default = 2)\n",
    "\"\"\"\n",
    "def wrangle_data(data, stdev_outlier=2):\n",
    "    # Eliminando nulos e valores onde a diferença do anterior é menor que 0\n",
    "    # por que as vezes o site do vacinometro reporta valores errados\n",
    "    data = data.dropna()\n",
    "    data = data.drop(data.query(\"Delta <= 0\").index)\n",
    "    # Vamos remover todas as entradas cuja a diferença\n",
    "    # da anterior (coluna delta) estiver acima de um certo número de\n",
    "    # desvios padrões da média (pelo mesmo motivo)\n",
    "    std = data.Delta.std()\n",
    "    mean = data.Delta.mean()\n",
    "    data = data.drop(\n",
    "        data.query(\n",
    "            \"Delta > @mean+@stdev_outlier*@std or Delta < @mean-@stdev_outlier*@std\"\n",
    "        ).index\n",
    "    )\n",
    "    # Para cada entrada, calcula em qual hora do ano ela foi computada (24*(dia_do_ano-1) + hora_do_dia)\n",
    "    # Dia do ano - 1 por que o primeiro dia começa na hora 0\n",
    "    data[\"HourOfYear\"] = 24*(data.Data.dt.dayofyear-1) + data.Data.dt.hour\n",
    "    # Agrupa registros q aconteceram dentro da mesma hora e soma todas as mudanças\n",
    "    # e pega o máximo da coluna vacinados, já q o número de vacinados só cresce esse valor\n",
    "    # reflete o número de vacinados total ao final daquela hora\n",
    "    vacinados_hora = data.groupby(\"HourOfYear\").max()[\"Vacinados\"]\n",
    "    \n",
    "    return vacinados_hora\n",
    "\n",
    "train = wrangle_data(train)\n",
    "test = wrangle_data(test)"
   ]
  },
  {
   "cell_type": "markdown",
   "metadata": {},
   "source": [
    "# Modelo Sarima"
   ]
  },
  {
   "cell_type": "code",
   "execution_count": 4,
   "metadata": {},
   "outputs": [
    {
     "data": {
      "image/png": "[encoded data removed]",
      "text/plain": [
       "<Figure size 1100x440 with 2 Axes>"
      ]
     },
     "metadata": {
      "needs_background": "light"
     },
     "output_type": "display_data"
    }
   ],
   "source": [
    "first_diff = train.diff()[1:]\n",
    "num_lags = 20\n",
    "acf_vals = acf(first_diff, nlags=num_lags, fft=False)\n",
    "pacf_vals = pacf(first_diff, nlags=num_lags)\n",
    "\n",
    "fig, ax = plt.subplots(ncols=2, figsize=(10,4), dpi=110, sharey=True)\n",
    "\n",
    "ax[0].bar(range(num_lags), acf_vals[:num_lags])\n",
    "ax[0].set(title=\"ACF\",\n",
    "         xlabel=\"Lags\",\n",
    "         ylabel=\"Correlation\")\n",
    "\n",
    "ax[1].bar(range(num_lags), pacf_vals[:num_lags])\n",
    "ax[1].set(title=\"PACF\",\n",
    "         xlabel=\"Lag\")\n",
    "fig.tight_layout();"
   ]
  },
  {
   "cell_type": "code",
   "execution_count": 5,
   "metadata": {},
   "outputs": [],
   "source": [
    "\"\"\"\n",
    "Parametros q vamos utilizar em todos as otimizações feitas\n",
    "\n",
    "method: método de otimização, escolhi um método derivative-free para evitar q regiões planas\n",
    "ou com vários minimos impeçam o modelo de convergir\n",
    "\n",
    "https://stats.stackexchange.com/questions/313426/mle-convergence-errors-with-statespace-sarimax\n",
    "\n",
    "maxiter: máximo de iterações antes de parar a otimização, 150 só pra garantir (padrão é 50)\n",
    "\n",
    "disp: desliga o relatório da otimização\n",
    "\"\"\"\n",
    "opt_param = {'method': 'powell', 'maxiter':150, 'disp':0}\n",
    "\n",
    "\n",
    "# Treina um modelo com os parametros passados e calcula o MAE no conjunto de testes\n",
    "def train_score_sarima(order, seasonal_order, train, test):\n",
    "    model = SARIMAX(train, order=order, seasonal_order=seasonal_order)\n",
    "    fit  = model.fit(**opt_param)\n",
    "    predictions = fit.forecast(len(test))\n",
    "    return mean_absolute_error(test, predictions)\n",
    "\n",
    "# Fixa (p,q,d) e (P,Q,D) e percorre uma lista de parametros m tentando encontrar o de menor erro\n",
    "def search_seasonal_period(order, P, Q, D, train, test, periods):\n",
    "    best_score = None\n",
    "    best_m = None\n",
    "    for m in periods:\n",
    "        score = train_score_sarima(order, (P,Q,D,m), train, test)\n",
    "        if best_score is None or score < best_score:\n",
    "            best_m, best_score = m, score\n",
    "    return best_m, best_score"
   ]
  },
  {
   "cell_type": "code",
   "execution_count": 6,
   "metadata": {
    "scrolled": false
   },
   "outputs": [
    {
     "name": "stderr",
     "output_type": "stream",
     "text": [
      "/home/phyrlae/miniconda3/envs/vacinometro/lib/python3.7/site-packages/statsmodels/tsa/statespace/sarimax.py:1009: UserWarning: Non-invertible starting seasonal moving average Using zeros as starting parameters.\n",
      "  warn('Non-invertible starting seasonal moving average'\n",
      "/home/phyrlae/miniconda3/envs/vacinometro/lib/python3.7/site-packages/statsmodels/tsa/statespace/sarimax.py:1009: UserWarning: Non-invertible starting seasonal moving average Using zeros as starting parameters.\n",
      "  warn('Non-invertible starting seasonal moving average'\n",
      "/home/phyrlae/miniconda3/envs/vacinometro/lib/python3.7/site-packages/statsmodels/tsa/statespace/sarimax.py:997: UserWarning: Non-stationary starting seasonal autoregressive Using zeros as starting parameters.\n",
      "  warn('Non-stationary starting seasonal autoregressive'\n",
      "/home/phyrlae/miniconda3/envs/vacinometro/lib/python3.7/site-packages/statsmodels/tsa/statespace/sarimax.py:1009: UserWarning: Non-invertible starting seasonal moving average Using zeros as starting parameters.\n",
      "  warn('Non-invertible starting seasonal moving average'\n",
      "/home/phyrlae/miniconda3/envs/vacinometro/lib/python3.7/site-packages/statsmodels/tsa/statespace/sarimax.py:997: UserWarning: Non-stationary starting seasonal autoregressive Using zeros as starting parameters.\n",
      "  warn('Non-stationary starting seasonal autoregressive'\n",
      "/home/phyrlae/miniconda3/envs/vacinometro/lib/python3.7/site-packages/statsmodels/tsa/statespace/sarimax.py:1009: UserWarning: Non-invertible starting seasonal moving average Using zeros as starting parameters.\n",
      "  warn('Non-invertible starting seasonal moving average'\n",
      "/home/phyrlae/miniconda3/envs/vacinometro/lib/python3.7/site-packages/statsmodels/tsa/statespace/sarimax.py:1009: UserWarning: Non-invertible starting seasonal moving average Using zeros as starting parameters.\n",
      "  warn('Non-invertible starting seasonal moving average'\n",
      "/home/phyrlae/miniconda3/envs/vacinometro/lib/python3.7/site-packages/statsmodels/tsa/statespace/sarimax.py:1009: UserWarning: Non-invertible starting seasonal moving average Using zeros as starting parameters.\n",
      "  warn('Non-invertible starting seasonal moving average'\n",
      "/home/phyrlae/miniconda3/envs/vacinometro/lib/python3.7/site-packages/statsmodels/tsa/statespace/sarimax.py:1009: UserWarning: Non-invertible starting seasonal moving average Using zeros as starting parameters.\n",
      "  warn('Non-invertible starting seasonal moving average'\n",
      "/home/phyrlae/miniconda3/envs/vacinometro/lib/python3.7/site-packages/statsmodels/tsa/statespace/sarimax.py:868: UserWarning: Too few observations to estimate starting parameters for seasonal ARMA. All parameters except for variances will be set to zeros.\n",
      "  ' zeros.' % warning_description)\n",
      "/home/phyrlae/miniconda3/envs/vacinometro/lib/python3.7/site-packages/statsmodels/tsa/statespace/sarimax.py:868: UserWarning: Too few observations to estimate starting parameters for seasonal ARMA. All parameters except for variances will be set to zeros.\n",
      "  ' zeros.' % warning_description)\n"
     ]
    },
    {
     "data": {
      "text/plain": [
       "(20, 22039.190887825327)"
      ]
     },
     "execution_count": 6,
     "metadata": {},
     "output_type": "execute_result"
    }
   ],
   "source": [
    "\"\"\"\n",
    "AR: 6 pelo gráfico de auto-correlação \n",
    "I: 1 porque fazer Lag-1 (coluna Delta) nos dá uma série estacionária\n",
    "MA: 1 Termo de média móvel, sem fundamento pra escolha aqui, só chutei\n",
    "Vamos deixar essa parte do modelo fixa por enquanto\n",
    "\"\"\"\n",
    "order=(6,1,1)\n",
    "best_m, best_score = search_seasonal_period(order, 1,1,1, list(train), list(test), range(16,30))\n",
    "best_m, best_score"
   ]
  },
  {
   "cell_type": "code",
   "execution_count": 7,
   "metadata": {},
   "outputs": [
    {
     "ename": "NameError",
     "evalue": "name 'season_order' is not defined",
     "output_type": "error",
     "traceback": [
      "\u001b[0;31m---------------------------------------------------------------------------\u001b[0m",
      "\u001b[0;31mNameError\u001b[0m                                 Traceback (most recent call last)",
      "\u001b[0;32m<ipython-input-7-d20dbdc4961b>\u001b[0m in \u001b[0;36m<module>\u001b[0;34m\u001b[0m\n\u001b[1;32m     20\u001b[0m     \u001b[0;32mreturn\u001b[0m \u001b[0mforecasts\u001b[0m\u001b[0;34m\u001b[0m\u001b[0;34m\u001b[0m\u001b[0m\n\u001b[1;32m     21\u001b[0m \u001b[0;34m\u001b[0m\u001b[0m\n\u001b[0;32m---> 22\u001b[0;31m \u001b[0mrolling\u001b[0m \u001b[0;34m=\u001b[0m \u001b[0mrolling_forecast\u001b[0m\u001b[0;34m(\u001b[0m\u001b[0morder\u001b[0m\u001b[0;34m,\u001b[0m \u001b[0mseason_order\u001b[0m\u001b[0;34m,\u001b[0m \u001b[0mtrain\u001b[0m\u001b[0;34m,\u001b[0m \u001b[0mtest\u001b[0m\u001b[0;34m)\u001b[0m\u001b[0;34m\u001b[0m\u001b[0;34m\u001b[0m\u001b[0m\n\u001b[0m",
      "\u001b[0;31mNameError\u001b[0m: name 'season_order' is not defined"
     ]
    }
   ],
   "source": [
    "\"\"\"\n",
    "Faz o rolling forecast, prevendo sempre o próximo periodo e adicionando o\n",
    "valor real ao próximo conjunto de treino dos dados\n",
    "\"\"\"\n",
    "def rolling_forecast(order, seasonal_order, train, test):\n",
    "    forecasts = []\n",
    "    \n",
    "    initial = train.index.max()\n",
    "    #Cópia local para não afetar objetos passados\n",
    "    train_copy = list(train).copy()\n",
    "    test_copy = list(test).copy()\n",
    "    for obs in range(len(test_copy)):\n",
    "        model = SARIMAX(train_copy, order=order, season_order=seasonal_order)\n",
    "        fit = model.fit(**opt_param)\n",
    "        prediction = fit.forecast(initial+obs)\n",
    "        forecasts.append(prediction[0])\n",
    "        # Adiciona o primeiro do conjunto de teste ao final do conjunto de treino\n",
    "        train_copy.append(test_copy[0])\n",
    "        test_copy = test_copy[1:]\n",
    "    return forecasts\n",
    "\n",
    "rolling = rolling_forecast(order, season_order, train, test)"
   ]
  },
  {
   "cell_type": "code",
   "execution_count": null,
   "metadata": {},
   "outputs": [],
   "source": [
    "\"\"\"\n",
    "AR, I e MA 1 e parametro de sazonalidade igual ao melhor encontrado na célula de cima (best_m)\n",
    "algo perto de 24 porque num periodo de 24h temos um ciclo de vacinação começando devagar na parte da\n",
    "manhã, acelerando na hora do almoço e começo da tarde e diminuindo no final do dia\n",
    "\"\"\"\n",
    "season_order=(1, 1, 1, best_m)\n",
    "model =SARIMAX(list(train), order=order, seasonal_order=season_order)\n",
    "model_fit = model.fit(**opt_param)\n",
    "\n",
    "full_data = wrangle_data(data)\n",
    "\n",
    "predictions = model_fit.forecast(len(test))\n",
    "fig, ax = plt.subplots(figsize=(10,5), dpi=100)\n",
    "\n",
    "ax.plot(full_data.index, full_data, linestyle='--', alpha =0.7, label=\"Real\")\n",
    "ax.plot(test.index, predictions, label=f\"SARIMA(6,1,1)(1,1,1){best_m}\");\n",
    "ax.plot(test.index, rolling, label=f\"SARIMA(6,1,1)(1,1,1){best_m} Rolling Forecast\")\n",
    "ax.set(title=f\"Comparação Real x Modelo\",\n",
    "       xlabel=\"Hora do Ano\",\n",
    "       ylabel=\"Número de Vacinados\")\n",
    "ax.grid()\n",
    "ax.legend();"
   ]
  },
  {
   "cell_type": "code",
   "execution_count": null,
   "metadata": {},
   "outputs": [],
   "source": [
    "\"\"\"\n",
    "Treinando um modelo com o melhor parametro de sazonalidade encontrado para tentar \n",
    "prever número de vacinados nas próximas horas\n",
    "\"\"\"\n",
    "order=(6,1,1)\n",
    "season_order=(1, 1, 1, best_m)\n",
    "model =SARIMAX(list(full_data), order=order, seasonal_order=season_order)\n",
    "model_fit = model.fit(**opt_param)\n",
    "hours_to_predict = 12\n",
    "predictions = model_fit.forecast(hours_to_predict)\n",
    "index = range(full_data.index.max(), full_data.index.max()+12)\n",
    "fig, ax = plt.subplots(figsize=(10,5), dpi=100)\n",
    "\n",
    "ax.plot(full_data.index, full_data, label=\"Real\")\n",
    "ax.plot(index, predictions, label=f\"SARIMA(6,1,1)(1,1,1){best_m}\");\n",
    "ax.set(title=f\"Previsão das próximas {hours_to_predict} horas\",\n",
    "       xlabel=\"Hora do Ano\",\n",
    "       ylabel=\"Número de Vacinados\")\n",
    "ax.grid()\n",
    "ax.legend();"
   ]
  }
 ],
 "metadata": {
  "kernelspec": {
   "display_name": "Python (vacinometro)",
   "language": "python",
   "name": "vacinometro"
  },
  "language_info": {
   "codemirror_mode": {
    "name": "ipython",
    "version": 3
   },
   "file_extension": ".py",
   "mimetype": "text/x-python",
   "name": "python",
   "nbconvert_exporter": "python",
   "pygments_lexer": "ipython3",
   "version": "3.7.9"
  }
 },
 "nbformat": 4,
 "nbformat_minor": 4
}
